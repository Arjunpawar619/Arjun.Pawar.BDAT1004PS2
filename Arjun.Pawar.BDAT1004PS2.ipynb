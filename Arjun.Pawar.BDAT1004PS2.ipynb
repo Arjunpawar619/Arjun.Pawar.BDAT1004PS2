{
 "cells": [
  {
   "cell_type": "markdown",
   "id": "d0239e96",
   "metadata": {},
   "source": [
    "# Problem Set 2"
   ]
  },
  {
   "cell_type": "markdown",
   "id": "d4f92240",
   "metadata": {},
   "source": [
    "## Question 1"
   ]
  },
  {
   "cell_type": "markdown",
   "id": "9d91b160",
   "metadata": {},
   "source": [
    "Consider the following Python module:  \n",
    "a = 0 \n",
    "def b():     \n",
    "    global a     \n",
    "    a = c(a)  \n",
    "def c(a):     \n",
    "    return a + 2  \n",
    "After importing the module into the interpreter, you execute:  \n",
    "    >>> b() \n",
    "    >>> b() \n",
    "    >>> b() \n",
    "    >>> a ? \n",
    "    \n",
    "What value is displayed when the last expression (a) is evaluated? Explain your answer by indicating what happens in every executed statement.     "
   ]
  },
  {
   "cell_type": "code",
   "execution_count": 1,
   "id": "a87c84bd",
   "metadata": {},
   "outputs": [
    {
     "data": {
      "text/plain": [
       "6"
      ]
     },
     "execution_count": 1,
     "metadata": {},
     "output_type": "execute_result"
    }
   ],
   "source": [
    "a = 0   #this a has global scope\n",
    "def b():     \n",
    "    global a  #  all references to a in b() are to the global a  \n",
    "    a = c(a) #global a is changed\n",
    "    \n",
    "def c(a):      \n",
    "    return a + 2  #this a is global a\n",
    "\n",
    "b() #global a has been chaged to 2\n",
    "\n",
    "b() #global a has been chaged to 4\n",
    "\n",
    "b() #global a has been chaged to 6\n",
    "\n",
    "a  #global a has been changed to 6"
   ]
  },
  {
   "cell_type": "markdown",
   "id": "fee4e740",
   "metadata": {},
   "source": [
    "Value of a = 6"
   ]
  },
  {
   "cell_type": "markdown",
   "id": "89316174",
   "metadata": {},
   "source": [
    "## Question 2"
   ]
  },
  {
   "cell_type": "markdown",
   "id": "0bf73db9",
   "metadata": {},
   "source": [
    "Function fileLength(), given to you, takes the name of a file as input and returns the length of the file:  >>> fileLength('midterm.py') 284 >>> fileLength('idterm.py') Traceback (most recent call last):   File \"<pyshell#34>\", line 1, in <module>     fileLength('idterm.py')   File \"/Users/me/midterm.py\", line 3, in fileLength     infile = open(filename) FileNotFoundError: [Errno 2] No such file or directory: 'idterm.py'  As shown above, if the file cannot be found by the interpreter or if it cannot be read as a text file, an exception will be raised. Modify function fileLength() so that a friendly message is printed instead:  >>> fileLength('midterm.py') 358 >>> fileLength('idterm.py') File idterm.py not found. "
   ]
  },
  {
   "cell_type": "code",
   "execution_count": 3,
   "id": "c9cbb39a",
   "metadata": {},
   "outputs": [],
   "source": [
    "def file_length(file_name):\n",
    "    try:\n",
    "        file = open(file_name)\n",
    "        contents = file.read()\n",
    "        file.close()\n",
    "        print(len(contents))\n",
    "        \n",
    "    except:\n",
    "        print(\"File {} not found \".format(file_name))"
   ]
  },
  {
   "cell_type": "code",
   "execution_count": 4,
   "id": "5f609199",
   "metadata": {},
   "outputs": [
    {
     "name": "stdout",
     "output_type": "stream",
     "text": [
      "File Detecting_anomaly.ipynb not found \n"
     ]
    }
   ],
   "source": [
    "file_length(\"Detecting_anomaly.ipynb\")"
   ]
  },
  {
   "cell_type": "markdown",
   "id": "7612ed25",
   "metadata": {},
   "source": [
    "## Question 3"
   ]
  },
  {
   "cell_type": "markdown",
   "id": "5e12ae1e",
   "metadata": {},
   "source": [
    "Write a class named Marsupial that can be used as shown below:  >>> m = Marsupial() >>> m.put_in_pouch('doll') >>> m.put_in_pouch('firetruck') >>> m.put_in_pouch('kitten') >>> m.pouch_contents() ['doll', 'firetruck', 'kitten']\n",
    "Now write a class named Kangaroo as a subclass of Marsupial that inherits all the attributes of Marsupial and also: a. extends the Marsupial __init__ constructor to take, as input, the coordinates x and y of the Kangaroo object, b. supports method jump that takes number values dx and dy as input and moves the kangaroo by dx units along the x-axis and by dy units along the y-axis, and c. overloads the __str__ operator so it behaves as shown below.  >>> k = Kangaroo(0,0) >>> print(k) I am a Kangaroo located at coordinates (0,0) >>> k.put_in_pouch('doll') >>> k.put_in_pouch('firetruck') >>> k.put_in_pouch('kitten') >>> k.pouch_contents() ['doll', 'firetruck', 'kitten'] >>> k.jump(1,0) >>> k.jump(1,0) >>> k.jump(1,0) >>> print(k) I am a Kangaroo located at coordinates (3,0) "
   ]
  },
  {
   "cell_type": "code",
   "execution_count": 29,
   "id": "c06f1e5e",
   "metadata": {},
   "outputs": [],
   "source": [
    "class  Marsupial:\n",
    "    \n",
    "    def __init__(self):\n",
    "        self.l = []\n",
    "        \n",
    "    \n",
    "    def put_in_pouch(self,x):\n",
    "        return self.l.append(x)\n",
    "    \n",
    "    def pouch_contents(self):\n",
    "        return self.l\n",
    "\n"
   ]
  },
  {
   "cell_type": "code",
   "execution_count": 30,
   "id": "83321d15",
   "metadata": {},
   "outputs": [],
   "source": [
    "class Kangaroo(Marsupial):\n",
    "    \n",
    "    def __init__(self, xcoord, ycoord):\n",
    "        'initialize coordinates to (xcoord, ycoord)'\n",
    "        Marsupial.__init__(self)\n",
    "        self.x = xcoord\n",
    "        self.y = ycoord\n",
    "        \n",
    "    \n",
    "    def jump(self,dx,dy):\n",
    "        self.x += dx\n",
    "        self.y += dy\n",
    "        \n",
    "    def __str__(self):\n",
    "        return \"I am a Kangaroo located at coordinates ({},{})\".format(self.x,self.y)\n",
    "    \n",
    "        "
   ]
  },
  {
   "cell_type": "code",
   "execution_count": 31,
   "id": "a4f27423",
   "metadata": {},
   "outputs": [
    {
     "data": {
      "text/plain": [
       "['doll', 'firetruck', 'kitten']"
      ]
     },
     "execution_count": 31,
     "metadata": {},
     "output_type": "execute_result"
    }
   ],
   "source": [
    "m = Marsupial() \n",
    "m.put_in_pouch('doll')\n",
    "m.put_in_pouch('firetruck')\n",
    "m.put_in_pouch('kitten')\n",
    "m.pouch_contents()\n"
   ]
  },
  {
   "cell_type": "code",
   "execution_count": 32,
   "id": "030728df",
   "metadata": {},
   "outputs": [],
   "source": [
    "k = Kangaroo(0,0)"
   ]
  },
  {
   "cell_type": "code",
   "execution_count": 33,
   "id": "f0273c2f",
   "metadata": {},
   "outputs": [
    {
     "name": "stdout",
     "output_type": "stream",
     "text": [
      "I am a Kangaroo located at coordinates (0,0)\n"
     ]
    }
   ],
   "source": [
    "print(k)"
   ]
  },
  {
   "cell_type": "code",
   "execution_count": 34,
   "id": "5d8a6fe2",
   "metadata": {},
   "outputs": [],
   "source": [
    " k.put_in_pouch('doll')"
   ]
  },
  {
   "cell_type": "code",
   "execution_count": 35,
   "id": "02e4664f",
   "metadata": {},
   "outputs": [],
   "source": [
    " k.put_in_pouch('firetruck')"
   ]
  },
  {
   "cell_type": "code",
   "execution_count": 36,
   "id": "3138faed",
   "metadata": {},
   "outputs": [],
   "source": [
    " k.put_in_pouch('kitten')"
   ]
  },
  {
   "cell_type": "code",
   "execution_count": 37,
   "id": "4b9c2c40",
   "metadata": {},
   "outputs": [
    {
     "data": {
      "text/plain": [
       "['doll', 'firetruck', 'kitten']"
      ]
     },
     "execution_count": 37,
     "metadata": {},
     "output_type": "execute_result"
    }
   ],
   "source": [
    " k.pouch_contents()"
   ]
  },
  {
   "cell_type": "code",
   "execution_count": 38,
   "id": "2f24e03e",
   "metadata": {},
   "outputs": [],
   "source": [
    "k.jump(1,0)"
   ]
  },
  {
   "cell_type": "code",
   "execution_count": 39,
   "id": "d8593f08",
   "metadata": {},
   "outputs": [],
   "source": [
    "k.jump(1,0)"
   ]
  },
  {
   "cell_type": "code",
   "execution_count": 40,
   "id": "194c5d87",
   "metadata": {},
   "outputs": [],
   "source": [
    "k.jump(1,0)"
   ]
  },
  {
   "cell_type": "code",
   "execution_count": 41,
   "id": "304720cd",
   "metadata": {},
   "outputs": [
    {
     "name": "stdout",
     "output_type": "stream",
     "text": [
      "I am a Kangaroo located at coordinates (3,0)\n"
     ]
    }
   ],
   "source": [
    "print(k)"
   ]
  },
  {
   "cell_type": "markdown",
   "id": "c7690328",
   "metadata": {},
   "source": [
    "## Question 4"
   ]
  },
  {
   "cell_type": "markdown",
   "id": "a8c76128",
   "metadata": {},
   "source": [
    "Write function collatz() that takes a positive integer x as input and prints the Collatz sequence starting at x. A Collatz sequence is obtained by repeatedly applying this rule to the previous number x in the sequence:   x = {  𝑥/2                    𝑖𝑓 𝑥 𝑖𝑠 𝑒𝑣𝑒𝑛3𝑥+1               𝑖𝑓 𝑥 𝑖𝑠 𝑜𝑑𝑑  Your function should stop when the sequence gets to number 1. Your implementation must be recursive, without any loops. \n",
    "collatz(1) 1 \n",
    "collatz(10) \n",
    "10 5 16 8 4 2 1 "
   ]
  },
  {
   "cell_type": "code",
   "execution_count": 14,
   "id": "3d96ff84",
   "metadata": {},
   "outputs": [],
   "source": [
    "def collatz(x):\n",
    "    if x == 1:\n",
    "        print(1)   \n",
    "    else:\n",
    "        if (x%2==0):\n",
    "            print(int(x))\n",
    "            return collatz(x/2)\n",
    "        else:\n",
    "            print(int(x))\n",
    "            return collatz(3*x+1)"
   ]
  },
  {
   "cell_type": "code",
   "execution_count": 15,
   "id": "35e1370a",
   "metadata": {},
   "outputs": [
    {
     "name": "stdout",
     "output_type": "stream",
     "text": [
      "1\n"
     ]
    }
   ],
   "source": [
    "collatz(1)"
   ]
  },
  {
   "cell_type": "code",
   "execution_count": 16,
   "id": "4a30ef2c",
   "metadata": {},
   "outputs": [
    {
     "name": "stdout",
     "output_type": "stream",
     "text": [
      "10\n",
      "5\n",
      "16\n",
      "8\n",
      "4\n",
      "2\n",
      "1\n"
     ]
    }
   ],
   "source": [
    "collatz(10)"
   ]
  },
  {
   "cell_type": "markdown",
   "id": "ef65f12f",
   "metadata": {},
   "source": [
    "## Question 5"
   ]
  },
  {
   "cell_type": "markdown",
   "id": "f79968e2",
   "metadata": {},
   "source": [
    "Write a recursive method binary() that takes a non-negative integer n and prints the binary representation of integer n.  >>> binary(0) 0 >>> binary(1) 1 >>> binary(3) 11 >>> binary(9) 1001 "
   ]
  },
  {
   "cell_type": "code",
   "execution_count": 17,
   "id": "e6bf4144",
   "metadata": {},
   "outputs": [],
   "source": [
    "def binary(x):\n",
    "    if x == 0 :\n",
    "        return 0\n",
    "        \n",
    "    else:\n",
    "        binary(x//2)\n",
    "        x = x%2\n",
    "        print(x, end=\" \")\n",
    "        \n",
    "        \n",
    "            "
   ]
  },
  {
   "cell_type": "code",
   "execution_count": 18,
   "id": "2fdfa118",
   "metadata": {},
   "outputs": [
    {
     "name": "stdout",
     "output_type": "stream",
     "text": [
      "1 0 0 1 "
     ]
    }
   ],
   "source": [
    "binary(9)"
   ]
  },
  {
   "cell_type": "code",
   "execution_count": 19,
   "id": "76ca760f",
   "metadata": {},
   "outputs": [
    {
     "name": "stdout",
     "output_type": "stream",
     "text": [
      "1 1 "
     ]
    }
   ],
   "source": [
    "binary(3)"
   ]
  },
  {
   "cell_type": "code",
   "execution_count": 20,
   "id": "2be063c1",
   "metadata": {},
   "outputs": [
    {
     "name": "stdout",
     "output_type": "stream",
     "text": [
      "1 "
     ]
    }
   ],
   "source": [
    "binary(1)"
   ]
  },
  {
   "cell_type": "code",
   "execution_count": 21,
   "id": "21fa8c57",
   "metadata": {},
   "outputs": [
    {
     "data": {
      "text/plain": [
       "0"
      ]
     },
     "execution_count": 21,
     "metadata": {},
     "output_type": "execute_result"
    }
   ],
   "source": [
    "binary(0)"
   ]
  },
  {
   "cell_type": "markdown",
   "id": "533b1282",
   "metadata": {},
   "source": [
    "## Question 6"
   ]
  },
  {
   "cell_type": "markdown",
   "id": "d014fdf0",
   "metadata": {},
   "source": [
    "Implement a class named HeadingParser that can be used to parse an HTML document, and retrieve and print all the headings in the document. You should implement your class as a subclass of HTMLParser, defined in Standard Library module html.parser. When fed a string containing HTML code, your class should print the headings, one per line and in the order in which they appear in the document. Each heading should be indented as follows: an h1 heading should have indentation 0, and h2 heading should have indentation 1, etc. Test your implementation using w3c.html.  >>> infile = open('w3c.html') >>> content = infile.read() >>> infile.close() >>> hp = HeadingParser() >>> hp.feed(content) W3C Mission  Principles "
   ]
  },
  {
   "cell_type": "code",
   "execution_count": 14,
   "id": "39968cf0",
   "metadata": {},
   "outputs": [],
   "source": [
    "# Reference:- https://docs.python.org/3/library/html.parser.html\n",
    "\n",
    "from html.parser import HTMLParser\n",
    "class HeadingParser(HTMLParser):\n",
    "    inHeading = False\n",
    "    def handle_starttag(self, tag, attrs):\n",
    "        if tag == \"h1\":\n",
    "            self.inHeading = True\n",
    "    def handle_data(self, data):\n",
    "        if self.inHeading:\n",
    "            print(data)\n",
    "    def handle_endtag(self, tag):\n",
    "        if tag ==\"h2\":\n",
    "            self.inHeading = False  "
   ]
  },
  {
   "cell_type": "code",
   "execution_count": 15,
   "id": "1fcf5795",
   "metadata": {},
   "outputs": [
    {
     "name": "stdout",
     "output_type": "stream",
     "text": [
      "W3C Mission\n",
      "\n",
      "\n",
      "\n",
      "The W3C mission is to lead the World Wide Web to its full potential\n",
      "\n",
      "by developing protocols and guidelines that ensure the long-term growth of the Web.\n",
      "\n",
      "\n",
      "\n",
      "Principles\n"
     ]
    }
   ],
   "source": [
    "infile = open('w3c.html')\n",
    "content = infile.read()\n",
    "infile.close()\n",
    "hp = HeadingParser()\n",
    "hp.feed(content) "
   ]
  },
  {
   "cell_type": "markdown",
   "id": "3aa6206e",
   "metadata": {},
   "source": [
    "## Question 7"
   ]
  },
  {
   "cell_type": "markdown",
   "id": "3ea1b65e",
   "metadata": {},
   "source": [
    "Implement recursive function webdir() that takes as input: a URL (as a string) and non-negative integers depth and indent. Your function should visit every web page reachable from the starting URL web page in depth clicks or less, and print each web page's URL. As shown below, indentation, specified by indent,  should be used to indicate the depth of a URL.  >>> webdir('http://reed.cs.depaul.edu/lperkovic/csc242/test1.html', 2, 0) http://reed.cs.depaul.edu/lperkovic/csc242/test1.html     http://reed.cs.depaul.edu/lperkovic/csc242/test2.html         http://reed.cs.depaul.edu/lperkovic/csc242/test4.html     http://reed.cs.depaul.edu/lperkovic/csc242/test3.html         http://reed.cs.depaul.edu/lperkovic/csc242/test4.html "
   ]
  },
  {
   "cell_type": "code",
   "execution_count": 145,
   "id": "32c333b6",
   "metadata": {},
   "outputs": [],
   "source": [
    "from html.parser import HTMLParser\n",
    "from urllib.parse import urljoin\n",
    "class Linkextract(HTMLParser):\n",
    "    \n",
    "    def __init__(self, url):\n",
    "        HTMLParser.__init__(self)   \n",
    "        self.url = url\n",
    "        self.l = []\n",
    "    \n",
    "        \n",
    "    def handle_starttag(self, tag, attrs):\n",
    "        if tag == \"a\":\n",
    "            for attr in attrs:\n",
    "                if attr[0]=='href':\n",
    "                    absolute_link = urljoin(self.url,attr[1])    # joining url and href attribute\n",
    "                    self.l.append(absolute_link)\n",
    "    \n",
    "    def __len__(self):\n",
    "        return len(self.l)\n",
    "    \n",
    "    def get_links(self):   # returns the list \n",
    "        return self.l"
   ]
  },
  {
   "cell_type": "code",
   "execution_count": 153,
   "id": "7579b7a7",
   "metadata": {},
   "outputs": [],
   "source": [
    "from urllib.request import urlopen \n",
    "list_1 = []\n",
    "\n",
    "\n",
    "def crawl(url,n,indent):\n",
    "    if indent==0:                 # if condition inorder to print Main URL ONLY\n",
    "        print(indent*\" \",url)   \n",
    "        \n",
    "    global list_1\n",
    "    \n",
    "    html = urlopen(url)           \n",
    "    content = html.read().decode()   # decoding html with UTF-8 \n",
    "    href_link = Linkextract(url) \n",
    "                                    \n",
    "    href_link.feed(content)          # Calling Linkextract function\n",
    "    l = href_link.get_links()        # retruns the list of links \n",
    "\n",
    "    for i in l:                      # looping through each list elements\n",
    "        print((indent+3)*' ',i)\n",
    "        if i not in list_1:          # If condition to avoid Infinite Looping\n",
    "            list_1.append(i)\n",
    "            if n==0:\n",
    "                print((indent+3)*\" \",i)       \n",
    "            else:\n",
    "                crawl(i, n-2,indent+3)\n",
    "            indent = 0 \n",
    "        else:\n",
    "            pass\n",
    "        \n",
    "    "
   ]
  },
  {
   "cell_type": "code",
   "execution_count": 154,
   "id": "6725f991",
   "metadata": {},
   "outputs": [
    {
     "name": "stdout",
     "output_type": "stream",
     "text": [
      " http://reed.cs.depaul.edu/lperkovic/one.html\n",
      "    http://reed.cs.depaul.edu/lperkovic/two.html\n",
      "       http://reed.cs.depaul.edu/lperkovic/four.html\n",
      "       http://reed.cs.depaul.edu/lperkovic/four.html\n",
      "    http://reed.cs.depaul.edu/lperkovic/three.html\n",
      "       http://reed.cs.depaul.edu/lperkovic/four.html\n"
     ]
    }
   ],
   "source": [
    "b = crawl('http://reed.cs.depaul.edu/lperkovic/one.html',2,0)   # used this Link because provided link was showing 404 Error"
   ]
  },
  {
   "cell_type": "markdown",
   "id": "4ae12cbc",
   "metadata": {},
   "source": [
    "## Question 8"
   ]
  },
  {
   "cell_type": "markdown",
   "id": "ce8809f1",
   "metadata": {},
   "source": [
    "Write SQL queries on the below database table that return:  a) All the temperature data. b) All the cities, but without repetition. c) All the records for India. d) All the Fall records. e) The city, country, and season for which the average rainfall is between 200 and 400 millimeters. f) The city and country for which the average Fall temperature is above 20 degrees, in increasing temperature order. g) The total annual rainfall for Cairo. h) The total rainfall for each season."
   ]
  },
  {
   "cell_type": "code",
   "execution_count": null,
   "id": "aa37417f",
   "metadata": {},
   "outputs": [],
   "source": [
    " !pip install ipython-sql"
   ]
  },
  {
   "cell_type": "markdown",
   "id": "3d19e933",
   "metadata": {},
   "source": [
    "### a."
   ]
  },
  {
   "cell_type": "code",
   "execution_count": null,
   "id": "847a16f7",
   "metadata": {},
   "outputs": [],
   "source": [
    "SELECT Temperature FROM database table"
   ]
  },
  {
   "cell_type": "markdown",
   "id": "94516c34",
   "metadata": {},
   "source": [
    "## b."
   ]
  },
  {
   "cell_type": "code",
   "execution_count": null,
   "id": "7544d199",
   "metadata": {},
   "outputs": [],
   "source": [
    "SELECT DISTINCT City FROM database table"
   ]
  },
  {
   "cell_type": "markdown",
   "id": "848cb61b",
   "metadata": {},
   "source": [
    "## c."
   ]
  },
  {
   "cell_type": "code",
   "execution_count": null,
   "id": "be934416",
   "metadata": {},
   "outputs": [],
   "source": [
    "SELECT * FROM database table\n",
    "WHERE Country = 'India'"
   ]
  },
  {
   "cell_type": "markdown",
   "id": "a30e851e",
   "metadata": {},
   "source": [
    "## d."
   ]
  },
  {
   "cell_type": "code",
   "execution_count": null,
   "id": "1bde84ae",
   "metadata": {},
   "outputs": [],
   "source": [
    "SELECT * FROM database table\n",
    "WHERE Season = 'Fall'"
   ]
  },
  {
   "cell_type": "markdown",
   "id": "7458181b",
   "metadata": {},
   "source": [
    "## e"
   ]
  },
  {
   "cell_type": "code",
   "execution_count": null,
   "id": "f9dfff65",
   "metadata": {},
   "outputs": [],
   "source": [
    "SELECT City, Country, Season FROM database table\n",
    "WHERE Rainfall BETWEEN  200 and 400"
   ]
  },
  {
   "cell_type": "markdown",
   "id": "e7e5e6b2",
   "metadata": {},
   "source": [
    "## f."
   ]
  },
  {
   "cell_type": "code",
   "execution_count": null,
   "id": "90a9958f",
   "metadata": {},
   "outputs": [],
   "source": [
    "SELECT City, Country FROM database table\n",
    "WHERE Temperature > 20\n",
    "ORDER by Temperature "
   ]
  },
  {
   "cell_type": "markdown",
   "id": "6f9d3ceb",
   "metadata": {},
   "source": [
    "## g."
   ]
  },
  {
   "cell_type": "code",
   "execution_count": null,
   "id": "6f3cac45",
   "metadata": {},
   "outputs": [],
   "source": [
    "SELECT SUM(Rainfall) FROM database table\n",
    "WHERE City = 'Cairo'"
   ]
  },
  {
   "cell_type": "markdown",
   "id": "d4cf26ba",
   "metadata": {},
   "source": [
    "## h."
   ]
  },
  {
   "cell_type": "code",
   "execution_count": null,
   "id": "ef5e8706",
   "metadata": {},
   "outputs": [],
   "source": [
    "SELECT SUM(Rainfall) FROM database table\n",
    "GROUP BY Season "
   ]
  },
  {
   "cell_type": "markdown",
   "id": "338c1f56",
   "metadata": {},
   "source": [
    "## Question 9"
   ]
  },
  {
   "cell_type": "markdown",
   "id": "3ee5cdf4",
   "metadata": {},
   "source": [
    " Suppose list words is defined as follows: >>> words = ['The', 'quick', 'brown', 'fox', 'jumps', 'over', 'the', 'lazy', 'dog'] Write list comprehension expressions that use list words and generate the following lists: a) ['THE', 'QUICK', 'BROWN', 'FOX', 'JUMPS', 'OVER', 'THE', 'LAZY', 'DOG'] b) ['the', 'quick', 'brown', 'fox', 'jumps', 'over', 'the', 'lazy', 'dog'] c) [3, 5, 5, 3, 5, 4, 3, 4, 3] (the list of lengths of words in list words). d) [['THE', 'the', 3], ['QUICK', 'quick', 5], ['BROWN', 'brown', 5], ['FOX', 'fox', 3], ['JUMPS', 'jumps', 5], ['OVER', 'over', 4], ['THE', 'the', 3], ['LAZY', 'lazy', 4], ['DOG', 'dog', 3]] (the list containing a list for every word of list words, where each list contains the word in uppercase and lowercase and the length of the word.) e) ['The', 'quick', 'brown', 'fox', 'jumps', 'over', 'the', 'lazy', 'dog'] (the list of words in list words containing 4 or more characters.) "
   ]
  },
  {
   "cell_type": "code",
   "execution_count": 23,
   "id": "3868ce93",
   "metadata": {},
   "outputs": [],
   "source": [
    "words = ['The', 'quick', 'brown', 'fox', 'jumps', 'over', 'the', 'lazy', 'dog'] "
   ]
  },
  {
   "cell_type": "markdown",
   "id": "6ae82181",
   "metadata": {},
   "source": [
    "## a."
   ]
  },
  {
   "cell_type": "code",
   "execution_count": 24,
   "id": "9f89b8e5",
   "metadata": {},
   "outputs": [
    {
     "data": {
      "text/plain": [
       "['THE', 'QUICK', 'BROWN', 'FOX', 'JUMPS', 'OVER', 'THE', 'LAZY', 'DOG']"
      ]
     },
     "execution_count": 24,
     "metadata": {},
     "output_type": "execute_result"
    }
   ],
   "source": [
    "Upper = [i.upper() for i in words]\n",
    "Upper"
   ]
  },
  {
   "cell_type": "markdown",
   "id": "d55acc63",
   "metadata": {},
   "source": [
    "## b."
   ]
  },
  {
   "cell_type": "code",
   "execution_count": 25,
   "id": "f73718c1",
   "metadata": {},
   "outputs": [
    {
     "data": {
      "text/plain": [
       "['the', 'quick', 'brown', 'fox', 'jumps', 'over', 'the', 'lazy', 'dog']"
      ]
     },
     "execution_count": 25,
     "metadata": {},
     "output_type": "execute_result"
    }
   ],
   "source": [
    "Lower = [i.lower() for i in words]\n",
    "Lower"
   ]
  },
  {
   "cell_type": "markdown",
   "id": "3e13e781",
   "metadata": {},
   "source": [
    "## c."
   ]
  },
  {
   "cell_type": "code",
   "execution_count": 26,
   "id": "b3d8ffd1",
   "metadata": {},
   "outputs": [
    {
     "data": {
      "text/plain": [
       "[3, 5, 5, 3, 5, 4, 3, 4, 3]"
      ]
     },
     "execution_count": 26,
     "metadata": {},
     "output_type": "execute_result"
    }
   ],
   "source": [
    "Len_words = [len(i) for i in words]\n",
    "Len_words"
   ]
  },
  {
   "cell_type": "markdown",
   "id": "88b7dac3",
   "metadata": {},
   "source": [
    "## d."
   ]
  },
  {
   "cell_type": "code",
   "execution_count": 27,
   "id": "98949ac8",
   "metadata": {
    "scrolled": true
   },
   "outputs": [
    {
     "data": {
      "text/plain": [
       "[['THE', 'the', 3],\n",
       " ['QUICK', 'quick', 5],\n",
       " ['BROWN', 'brown', 5],\n",
       " ['FOX', 'fox', 3],\n",
       " ['JUMPS', 'jumps', 5],\n",
       " ['OVER', 'over', 4],\n",
       " ['THE', 'the', 3],\n",
       " ['LAZY', 'lazy', 4],\n",
       " ['DOG', 'dog', 3]]"
      ]
     },
     "execution_count": 27,
     "metadata": {},
     "output_type": "execute_result"
    }
   ],
   "source": [
    "l = [ [i.upper(), i.lower(), len(i)] for i in words]\n",
    "l"
   ]
  },
  {
   "cell_type": "markdown",
   "id": "0d9eb517",
   "metadata": {},
   "source": [
    "## e."
   ]
  },
  {
   "cell_type": "code",
   "execution_count": 28,
   "id": "f847e0a0",
   "metadata": {},
   "outputs": [
    {
     "data": {
      "text/plain": [
       "['quick', 'brown', 'jumps', 'over', 'lazy']"
      ]
     },
     "execution_count": 28,
     "metadata": {},
     "output_type": "execute_result"
    }
   ],
   "source": [
    "c = [ i for i in words if len(i)>=4]\n",
    "c"
   ]
  }
 ],
 "metadata": {
  "kernelspec": {
   "display_name": "Python 3",
   "language": "python",
   "name": "python3"
  },
  "language_info": {
   "codemirror_mode": {
    "name": "ipython",
    "version": 3
   },
   "file_extension": ".py",
   "mimetype": "text/x-python",
   "name": "python",
   "nbconvert_exporter": "python",
   "pygments_lexer": "ipython3",
   "version": "3.8.8"
  }
 },
 "nbformat": 4,
 "nbformat_minor": 5
}
